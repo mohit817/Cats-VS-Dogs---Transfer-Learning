{
 "cells": [
  {
   "cell_type": "markdown",
   "id": "e8e122e8-012e-4b97-91e8-af129d054196",
   "metadata": {},
   "source": [
    "# Cats VS Dogs - Transfer Learning"
   ]
  },
  {
   "cell_type": "raw",
   "id": "ba87eea4-16de-4084-9390-69a469661697",
   "metadata": {},
   "source": [
    "Create Sub directories so the data is in this format\n",
    "\n",
    "-dataset_dogs_vs_cats\n",
    "    -train\n",
    "        --dogs\n",
    "        --cats\n",
    "    -test\n",
    "        --dogs\n",
    "        --cats"
   ]
  },
  {
   "cell_type": "code",
   "execution_count": 1,
   "id": "c51e4393-e7b5-4dca-b664-73d2c689c25a",
   "metadata": {},
   "outputs": [],
   "source": [
    "# create directories\n",
    "from os import makedirs\n",
    "dataset_home = 'dataset_dogs_vs_cats/'\n",
    "subdirs = ['train/','test/']\n",
    "for subdir in subdirs:\n",
    "    labeldirs = ['dogs/','cats/']\n",
    "    for labeldir in labeldirs:\n",
    "        newdir = dataset_home + subdir + labeldir\n",
    "        makedirs(newdir,exist_ok=True)"
   ]
  },
  {
   "cell_type": "markdown",
   "id": "c519bb24-4747-41cd-8bb9-a69ab558edd6",
   "metadata": {},
   "source": [
    "Now change your dataset to fit this format"
   ]
  },
  {
   "cell_type": "code",
   "execution_count": 2,
   "id": "f218c3a2-42c2-42a2-a80e-537d6dfaab28",
   "metadata": {},
   "outputs": [],
   "source": [
    "from os import makedirs\n",
    "from os import listdir\n",
    "from shutil import copyfile\n",
    "\n",
    "# create directories\n",
    "from random import seed,random\n",
    "seed(1)\n",
    "\n",
    "# define ratio of pictures to use for validation\n",
    "val_ratio = 0.25\n",
    "\n",
    "# copy training dataset images into subdirectories\n",
    "src_directory = r\"C:\\Users\\mohit\\Desktop\\data science\\Deep Leraning\\Cats VS Dogs - Transfer Learning\\dogs_vs_cats\\train\"\n",
    "dataset_home = 'dataset_dogs_vs_cats/'\n",
    "for file in listdir(src_directory):\n",
    "    src = src_directory + '/' + file\n",
    "    dst_dir = 'train/'\n",
    "    if random() < val_ratio:\n",
    "        dst_dir = 'test/'\n",
    "    if file.startswith('cat'):\n",
    "        dst = dataset_home + dst_dir + 'cats/' + file\n",
    "        copyfile(src,dst)\n",
    "    elif file.startswith('dog'):\n",
    "        dst = dataset_home + dst_dir + 'dogs/' + file\n",
    "        copyfile(src,dst)\n",
    "        "
   ]
  },
  {
   "cell_type": "markdown",
   "id": "b93bda7a-df1e-463a-8b47-f798d0926ad1",
   "metadata": {},
   "source": [
    "Prepare a model for Transfer Learning"
   ]
  },
  {
   "cell_type": "code",
   "execution_count": 3,
   "id": "19c99ce2-d2d3-43c2-8d79-0af40567a196",
   "metadata": {},
   "outputs": [
    {
     "name": "stdout",
     "output_type": "stream",
     "text": [
      "WARNING:tensorflow:From C:\\Users\\mohit\\AppData\\Local\\Programs\\Python\\Python311\\Lib\\site-packages\\keras\\src\\losses.py:2976: The name tf.losses.sparse_softmax_cross_entropy is deprecated. Please use tf.compat.v1.losses.sparse_softmax_cross_entropy instead.\n",
      "\n",
      "WARNING:tensorflow:From C:\\Users\\mohit\\AppData\\Local\\Programs\\Python\\Python311\\Lib\\site-packages\\keras\\src\\backend.py:1398: The name tf.executing_eagerly_outside_functions is deprecated. Please use tf.compat.v1.executing_eagerly_outside_functions instead.\n",
      "\n",
      "WARNING:tensorflow:From C:\\Users\\mohit\\AppData\\Local\\Programs\\Python\\Python311\\Lib\\site-packages\\keras\\src\\layers\\pooling\\max_pooling2d.py:161: The name tf.nn.max_pool is deprecated. Please use tf.nn.max_pool2d instead.\n",
      "\n"
     ]
    }
   ],
   "source": [
    "from keras.applications.vgg16 import VGG16\n",
    "from keras.models import Model\n",
    "from keras.layers import Dense,Flatten\n",
    "from keras.optimizers import SGD\n",
    "from keras.preprocessing.image import ImageDataGenerator\n",
    "model = VGG16(include_top = False, input_shape = (224,224,3))\n",
    "# mark loaded layers as not trainable\n",
    "for layer in model.layers:\n",
    "    layer.trainable = False\n",
    "# add new classifier layers\n",
    "flat1 = Flatten()(model.layers[-1].output)\n",
    "class1 = Dense(128,activation = 'relu',kernel_initializer = 'he_uniform')(flat1)\n",
    "output = Dense(1,activation = 'sigmoid')(class1)\n",
    "# define new model\n",
    "model = Model(inputs = model.inputs, outputs = output)\n",
    "# compile model\n",
    "opt = SGD(learning_rate = 0.001, momentum = 0.9)\n",
    "model.compile(optimizer = opt, loss = 'binary_crossentropy', metrics = ['accuracy'])"
   ]
  },
  {
   "cell_type": "markdown",
   "id": "deb7b772-d41c-4f3c-83e2-a3af86087470",
   "metadata": {},
   "source": [
    "Run the Model using Generator"
   ]
  },
  {
   "cell_type": "code",
   "execution_count": null,
   "id": "c4008f94-bbe5-4b5a-8cec-bd8a0637e9cf",
   "metadata": {},
   "outputs": [],
   "source": [
    "datagen = ImageDataGenerator(featurewise_center = True)\n",
    "# specify imagenet mean values for centering\n",
    "datagen.mean = [123.68,116.779,103.939]\n",
    "# prepare iterator\n",
    "train_it = datagen.flow_from_directory('dataset_dogs_vs_cats/train/',class_mode = 'binary',batch_size = 64,target_size = (224,224))\n",
    "test_it = datagen.flow_from_directory('dataset_dogs_vs_cats/test/',class_mode = 'binary',batch_size = 64,target_size = (224,224))\n",
    "# fit model\n",
    "history = model.fit_generator(train_it,steps_per_epoch = len(train_it),validation_data = test_it,validation_steps= len(test_it),epochs = 5,\n",
    "                             verbose = 1)"
   ]
  },
  {
   "cell_type": "markdown",
   "id": "409e8b48-aa39-44d7-9d2c-1d67f070132f",
   "metadata": {},
   "source": [
    "Plot the loss and accuracy"
   ]
  },
  {
   "cell_type": "code",
   "execution_count": null,
   "id": "186711db-fe30-47f1-9d44-94100a686259",
   "metadata": {},
   "outputs": [],
   "source": [
    "import matplotlib.pyplot as plt\n",
    "plt.subplot(211)\n",
    "plt.title('Cross Entropy Loss')\n",
    "plt.plot(history.history['loss'],color = 'blue',label = 'train')\n",
    "plt.plot(history.history['val_loss'], color = 'orange',label = 'test')\n",
    "# plot accuracy\n",
    "plt.subplot(212)\n",
    "plt.title('Classification Accuracy')\n",
    "plt.plot(history.history['accuracy'],color = 'blue',label = 'train')\n",
    "plt.plot(history.history['val_accuracy'],color = 'orange',label = 'test')"
   ]
  },
  {
   "cell_type": "markdown",
   "id": "6d907bd3-2b64-40a7-b17e-1375c7bf0545",
   "metadata": {},
   "source": [
    "Save the model for future use"
   ]
  },
  {
   "cell_type": "code",
   "execution_count": null,
   "id": "24fe0644-cce5-4816-aa48-ea1799ae3e0a",
   "metadata": {},
   "outputs": [],
   "source": [
    "model.save('final_model.h5')"
   ]
  },
  {
   "cell_type": "code",
   "execution_count": null,
   "id": "1f1942ca-e326-4e2d-b7a6-f5439e41d7e9",
   "metadata": {},
   "outputs": [],
   "source": []
  },
  {
   "cell_type": "code",
   "execution_count": null,
   "id": "b7974df3-3b1b-4b7d-b69f-afe88674be62",
   "metadata": {},
   "outputs": [],
   "source": []
  }
 ],
 "metadata": {
  "kernelspec": {
   "display_name": "Python 3 (ipykernel)",
   "language": "python",
   "name": "python3"
  },
  "language_info": {
   "codemirror_mode": {
    "name": "ipython",
    "version": 3
   },
   "file_extension": ".py",
   "mimetype": "text/x-python",
   "name": "python",
   "nbconvert_exporter": "python",
   "pygments_lexer": "ipython3",
   "version": "3.11.5"
  }
 },
 "nbformat": 4,
 "nbformat_minor": 5
}
